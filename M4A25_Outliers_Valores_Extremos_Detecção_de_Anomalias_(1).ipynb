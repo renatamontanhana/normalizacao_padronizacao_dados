{
  "nbformat": 4,
  "nbformat_minor": 0,
  "metadata": {
    "colab": {
      "provenance": [],
      "collapsed_sections": [
        "jHAwfX-SXdXk",
        "eqd6NGypXdXt"
      ],
      "include_colab_link": true
    },
    "kernelspec": {
      "display_name": "Python 3",
      "language": "python",
      "name": "python3"
    },
    "language_info": {
      "codemirror_mode": {
        "name": "ipython",
        "version": 3
      },
      "file_extension": ".py",
      "mimetype": "text/x-python",
      "name": "python",
      "nbconvert_exporter": "python",
      "pygments_lexer": "ipython3",
      "version": "3.8.3"
    }
  },
  "cells": [
    {
      "cell_type": "markdown",
      "metadata": {
        "id": "view-in-github",
        "colab_type": "text"
      },
      "source": [
        "<a href=\"https://colab.research.google.com/github/renatamontanhana/normalizacao_padronizacao_dados/blob/main/M4A25_Outliers_Valores_Extremos_Detec%C3%A7%C3%A3o_de_Anomalias_(1).ipynb\" target=\"_parent\"><img src=\"https://colab.research.google.com/assets/colab-badge.svg\" alt=\"Open In Colab\"/></a>"
      ]
    },
    {
      "cell_type": "markdown",
      "metadata": {
        "id": "WHSU8NShZedN"
      },
      "source": [
        "![alt text](https://encrypted-tbn0.gstatic.com/images?q=tbn%3AANd9GcTK4gQ9nhwHHaSXMHpeggWg7twwMCgb877smkRmtkmDeDoGF9Z6&usqp=CAU)"
      ]
    },
    {
      "cell_type": "markdown",
      "metadata": {
        "id": "7oiQVQi0AJ6D"
      },
      "source": [
        "# <font color='BLUE'>Cientista de Dados na Prática </font>\n",
        "\n",
        "# <font color='GREEN'>Módulo 4 - Análise Exploratória dos Dados</font>\n",
        "\n",
        "### <font color='GREY'> Numpy - Outliers - Valores Extremos - Detecção de Anomalias </font>\n",
        "\n"
      ]
    },
    {
      "cell_type": "markdown",
      "metadata": {
        "id": "lk7bNn2JU616"
      },
      "source": [
        "# Outliers - Análise de Dados  \n"
      ]
    },
    {
      "cell_type": "markdown",
      "metadata": {
        "id": "38wKMo4oXdXO"
      },
      "source": [
        "### Tratamento de Dados - Detecção de Anomalias"
      ]
    },
    {
      "cell_type": "markdown",
      "metadata": {
        "id": "GESP93yDXdXP"
      },
      "source": [
        "##### Dataset de simulação de anomalias"
      ]
    },
    {
      "cell_type": "code",
      "metadata": {
        "id": "MDZg92HfXdXP",
        "outputId": "bdb3c3c9-466a-491d-eaf8-456ccf046e95",
        "colab": {
          "base_uri": "https://localhost:8080/"
        }
      },
      "source": [
        "import numpy\n",
        "\n",
        "dados = [10, 386, 479, 627, 20, 523, 482, 483, 542, 699, 535, 617, 577, 471, 615, 583, 441, 562, 563, 527,\n",
        "       453, 530, 433, 541, 585, 704, 443, 569, 430, 637, 331, 511, 552, 496, 484, 566, 554, 472, 335,\n",
        "       440, 579, 341, 545, 615, 548, 604, 439, 556, 442, 461, 624, 611, 444, 578, 405, 487, 490, 496, 398,\n",
        "       512, 422, 455, 449, 432, 607, 679, 434, 597, 639, 565, 415, 486, 668, 414, 665, 763, 557, 304, 404, 454,\n",
        "       689, 610, 483, 441, 657, 590, 492, 476, 437, 483, 529, 363, 711, 543,30, 1300, 1350, 1400]\n",
        "\n",
        "dados = numpy.array(dados)\n",
        "print(dados)"
      ],
      "execution_count": 1,
      "outputs": [
        {
          "output_type": "stream",
          "name": "stdout",
          "text": [
            "[  10  386  479  627   20  523  482  483  542  699  535  617  577  471\n",
            "  615  583  441  562  563  527  453  530  433  541  585  704  443  569\n",
            "  430  637  331  511  552  496  484  566  554  472  335  440  579  341\n",
            "  545  615  548  604  439  556  442  461  624  611  444  578  405  487\n",
            "  490  496  398  512  422  455  449  432  607  679  434  597  639  565\n",
            "  415  486  668  414  665  763  557  304  404  454  689  610  483  441\n",
            "  657  590  492  476  437  483  529  363  711  543   30 1300 1350 1400]\n"
          ]
        }
      ]
    },
    {
      "cell_type": "markdown",
      "metadata": {
        "id": "wu-csytZXdXS"
      },
      "source": [
        "#### Visualizando os valores anômalos"
      ]
    },
    {
      "cell_type": "code",
      "metadata": {
        "id": "qJnW9FzLXdXT",
        "outputId": "2e5c8675-8fac-4b9b-e6d2-c660072f70b4",
        "colab": {
          "base_uri": "https://localhost:8080/",
          "height": 268
        }
      },
      "source": [
        "%matplotlib inline\n",
        "# Bibliote de Visualização de Dados - Seaborn\n",
        "import seaborn as sns\n",
        "sns.set(style=\"whitegrid\", color_codes=True)\n",
        "sns.boxplot(data=dados);"
      ],
      "execution_count": null,
      "outputs": [
        {
          "output_type": "display_data",
          "data": {
            "image/png": "[encoded data removed]",
            "text/plain": [
              "<Figure size 432x288 with 1 Axes>"
            ]
          },
          "metadata": {
            "tags": []
          }
        }
      ]
    },
    {
      "cell_type": "markdown",
      "metadata": {
        "id": "UYofPtnXXdXV"
      },
      "source": [
        "##### verificando o valor da média"
      ]
    },
    {
      "cell_type": "code",
      "metadata": {
        "scrolled": true,
        "id": "MiqDOoxZXdXW",
        "outputId": "d85642a0-6e90-4268-f32d-4f22d25f6a53",
        "colab": {
          "base_uri": "https://localhost:8080/",
          "height": 34
        }
      },
      "source": [
        "numpy.mean(dados)"
      ],
      "execution_count": null,
      "outputs": [
        {
          "output_type": "execute_result",
          "data": {
            "text/plain": [
              "530.3673469387755"
            ]
          },
          "metadata": {
            "tags": []
          },
          "execution_count": 3
        }
      ]
    },
    {
      "cell_type": "code",
      "metadata": {
        "id": "6vkbb2vISb_2",
        "outputId": "8a02f8ff-29cf-4edf-9acf-e7d4dd3fb607",
        "colab": {
          "base_uri": "https://localhost:8080/",
          "height": 34
        }
      },
      "source": [
        "numpy.median(dados)"
      ],
      "execution_count": null,
      "outputs": [
        {
          "output_type": "execute_result",
          "data": {
            "text/plain": [
              "517.5"
            ]
          },
          "metadata": {
            "tags": []
          },
          "execution_count": 4
        }
      ]
    },
    {
      "cell_type": "markdown",
      "metadata": {
        "id": "DDfN1SP9XdXY"
      },
      "source": [
        "##### verificando o valor de desvio padrão"
      ]
    },
    {
      "cell_type": "code",
      "metadata": {
        "scrolled": true,
        "id": "hpNofJn3XdXZ",
        "outputId": "058eaa15-f3cc-49f7-dbd0-aa62f8917a45",
        "colab": {
          "base_uri": "https://localhost:8080/",
          "height": 34
        }
      },
      "source": [
        "numpy.std(dados)"
      ],
      "execution_count": null,
      "outputs": [
        {
          "output_type": "execute_result",
          "data": {
            "text/plain": [
              "192.51166875607043"
            ]
          },
          "metadata": {
            "tags": []
          },
          "execution_count": 5
        }
      ]
    },
    {
      "cell_type": "markdown",
      "metadata": {
        "id": "pX4iXUcyXdXb"
      },
      "source": [
        "##### fronteira de valor abaixo da média em duas vezes o desvio padrão"
      ]
    },
    {
      "cell_type": "code",
      "metadata": {
        "id": "pkYcsISJXdXb"
      },
      "source": [
        "mean = numpy.mean(dados)\n",
        "sd = numpy.std(dados)"
      ],
      "execution_count": null,
      "outputs": []
    },
    {
      "cell_type": "code",
      "metadata": {
        "scrolled": false,
        "id": "lfxEA0riXdXd",
        "outputId": "65fc53e5-e7b0-4fe5-bf8a-74dcb363b957",
        "colab": {
          "base_uri": "https://localhost:8080/",
          "height": 34
        }
      },
      "source": [
        "mean - 2 * sd"
      ],
      "execution_count": null,
      "outputs": [
        {
          "output_type": "execute_result",
          "data": {
            "text/plain": [
              "145.34400942663467"
            ]
          },
          "metadata": {
            "tags": []
          },
          "execution_count": 8
        }
      ]
    },
    {
      "cell_type": "markdown",
      "metadata": {
        "id": "gofA1ChBXdXf"
      },
      "source": [
        "##### fronteira de valores acima da média em duas vezes o desvio padrão"
      ]
    },
    {
      "cell_type": "code",
      "metadata": {
        "scrolled": true,
        "id": "G_k7Wc9gXdXg",
        "outputId": "fc31e185-24ea-4d41-b6cb-8cac5dc17cea",
        "colab": {
          "base_uri": "https://localhost:8080/",
          "height": 34
        }
      },
      "source": [
        "mean + 2 * sd"
      ],
      "execution_count": null,
      "outputs": [
        {
          "output_type": "execute_result",
          "data": {
            "text/plain": [
              "915.3906844509164"
            ]
          },
          "metadata": {
            "tags": []
          },
          "execution_count": 9
        }
      ]
    },
    {
      "cell_type": "markdown",
      "metadata": {
        "id": "ZLXfDVIhXdXh"
      },
      "source": [
        "##### listando os valores abaixo da média em duas vezes o desvio padrão"
      ]
    },
    {
      "cell_type": "code",
      "metadata": {
        "scrolled": true,
        "id": "-TPItrItXdXi",
        "outputId": "053860df-8640-47f4-e633-4b233f4e8200",
        "colab": {
          "base_uri": "https://localhost:8080/",
          "height": 70
        }
      },
      "source": [
        "for x in dados:\n",
        "        if (x < mean - 2 * sd):\n",
        "            print(x)"
      ],
      "execution_count": null,
      "outputs": [
        {
          "output_type": "stream",
          "text": [
            "10\n",
            "20\n",
            "30\n"
          ],
          "name": "stdout"
        }
      ]
    },
    {
      "cell_type": "markdown",
      "metadata": {
        "id": "jHAwfX-SXdXk"
      },
      "source": [
        "##### listando os valores acima da média em duas vezes o desvio padrão"
      ]
    },
    {
      "cell_type": "code",
      "metadata": {
        "scrolled": true,
        "id": "vA5EmOCAXdXn",
        "outputId": "5c10a4eb-3113-4acf-ac0d-6f7d077bec7c",
        "colab": {
          "base_uri": "https://localhost:8080/",
          "height": 70
        }
      },
      "source": [
        "for x in dados:\n",
        "        if (x > mean + 2 * sd):\n",
        "            print(x)"
      ],
      "execution_count": null,
      "outputs": [
        {
          "output_type": "stream",
          "text": [
            "1300\n",
            "1350\n",
            "1400\n"
          ],
          "name": "stdout"
        }
      ]
    },
    {
      "cell_type": "markdown",
      "metadata": {
        "id": "4x-DQuKCXdXo"
      },
      "source": [
        "#### Removendo os valores muito abaixo da média (10,20,30)"
      ]
    },
    {
      "cell_type": "code",
      "metadata": {
        "id": "vUXvd2amXdXp"
      },
      "source": [
        "# Se os valores de \"x\" forem maiores que o limite inferior (mean-2*sd) o \"x\" continua no array, se não ele é removido\n",
        "dados = [x for x in dados if (x > mean - 2 * sd)]\n",
        "print(dados)"
      ],
      "execution_count": null,
      "outputs": []
    },
    {
      "cell_type": "markdown",
      "metadata": {
        "id": "IY2a-n_hXdXr"
      },
      "source": [
        "#### Removendo os valores muito acima da média (1300,1350,1400)"
      ]
    },
    {
      "cell_type": "code",
      "metadata": {
        "id": "zQstvxrcXdXr",
        "outputId": "5065d6bb-75d8-4d36-f7a9-0be05ea5007a",
        "colab": {
          "base_uri": "https://localhost:8080/",
          "height": 54
        }
      },
      "source": [
        "# Se os valores de \"x\" forem menores que o limite superior (mean+2*sd) o \"x\" continua no array, se não ele é removido\n",
        "dados = [x for x in dados if (x < mean + 2 * sd)]\n",
        "print(dados)"
      ],
      "execution_count": null,
      "outputs": [
        {
          "output_type": "stream",
          "text": [
            "[386, 479, 627, 523, 482, 483, 542, 699, 535, 617, 577, 471, 615, 583, 441, 562, 563, 527, 453, 530, 433, 541, 585, 704, 443, 569, 430, 637, 331, 511, 552, 496, 484, 566, 554, 472, 335, 440, 579, 341, 545, 615, 548, 604, 439, 556, 442, 461, 624, 611, 444, 578, 405, 487, 490, 496, 398, 512, 422, 455, 449, 432, 607, 679, 434, 597, 639, 565, 415, 486, 668, 414, 665, 763, 557, 304, 404, 454, 689, 610, 483, 441, 657, 590, 492, 476, 437, 483, 529, 363, 711, 543]\n"
          ],
          "name": "stdout"
        }
      ]
    },
    {
      "cell_type": "markdown",
      "metadata": {
        "id": "eqd6NGypXdXt"
      },
      "source": [
        "#### Visualizando os valores novamente"
      ]
    },
    {
      "cell_type": "code",
      "metadata": {
        "scrolled": true,
        "id": "Spx4kxbOXdXt",
        "outputId": "0040389b-2612-4994-911a-8d5c27a0b841",
        "colab": {
          "base_uri": "https://localhost:8080/",
          "height": 268
        }
      },
      "source": [
        "sns.boxplot(data=dados);"
      ],
      "execution_count": null,
      "outputs": [
        {
          "output_type": "display_data",
          "data": {
            "image/png": "[encoded data removed]",
            "text/plain": [
              "<Figure size 432x288 with 1 Axes>"
            ]
          },
          "metadata": {
            "tags": []
          }
        }
      ]
    },
    {
      "cell_type": "code",
      "metadata": {
        "id": "bXARNoD8VRwF",
        "outputId": "6b6c7dcf-dbcf-4853-8dd1-8f7284b3dbf5",
        "colab": {
          "base_uri": "https://localhost:8080/",
          "height": 33
        }
      },
      "source": [
        "numpy.mean(dados)\n"
      ],
      "execution_count": null,
      "outputs": [
        {
          "output_type": "execute_result",
          "data": {
            "text/plain": [
              "520.2826086956521"
            ]
          },
          "metadata": {
            "tags": []
          },
          "execution_count": 16
        }
      ]
    },
    {
      "cell_type": "code",
      "metadata": {
        "id": "xnolm49iVf9L",
        "outputId": "117bb0cb-f72c-4265-dce6-c88cc1bcecc0",
        "colab": {
          "base_uri": "https://localhost:8080/",
          "height": 33
        }
      },
      "source": [
        "numpy.median(dados)"
      ],
      "execution_count": null,
      "outputs": [
        {
          "output_type": "execute_result",
          "data": {
            "text/plain": [
              "517.5"
            ]
          },
          "metadata": {
            "tags": []
          },
          "execution_count": 17
        }
      ]
    },
    {
      "cell_type": "markdown",
      "metadata": {
        "id": "XTRc7NjBKG65"
      },
      "source": [
        "# Fim"
      ]
    },
    {
      "cell_type": "markdown",
      "metadata": {
        "id": "_fHqFSvWe94c"
      },
      "source": [
        "## Valeu!"
      ]
    },
    {
      "cell_type": "markdown",
      "metadata": {
        "id": "JCGIEsSrKG66"
      },
      "source": [
        "### #Instagram - Ciencia dos Dados <a href=\"http://instagram.com/cienciadosdados\">instagram.com/cienciadosdados</a>"
      ]
    }
  ]
}