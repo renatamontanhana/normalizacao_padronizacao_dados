{
  "nbformat": 4,
  "nbformat_minor": 0,
  "metadata": {
    "colab": {
      "provenance": [],
      "collapsed_sections": [
        "i9B1HyT2llNk",
        "4vhNe3CadOcI",
        "sZnu3djs_vjJ",
        "37p1_m7F0MER",
        "SaYmsVtotcF_",
        "18XxKuwjngVK",
        "IUt81GVWGHLb"
      ],
      "include_colab_link": true
    },
    "kernelspec": {
      "display_name": "Python 3",
      "language": "python",
      "name": "python3"
    },
    "language_info": {
      "codemirror_mode": {
        "name": "ipython",
        "version": 3
      },
      "file_extension": ".py",
      "mimetype": "text/x-python",
      "name": "python",
      "nbconvert_exporter": "python",
      "pygments_lexer": "ipython3",
      "version": "3.8.3"
    }
  },
  "cells": [
    {
      "cell_type": "markdown",
      "metadata": {
        "id": "view-in-github",
        "colab_type": "text"
      },
      "source": [
        "<a href=\"https://colab.research.google.com/github/renatamontanhana/normalizacao_padronizacao_dados/blob/main/M4A26_Caso_Pr%C3%A1tico_de_An%C3%A1lise_Explorat%C3%B3ria_(1).ipynb\" target=\"_parent\"><img src=\"https://colab.research.google.com/assets/colab-badge.svg\" alt=\"Open In Colab\"/></a>"
      ]
    },
    {
      "cell_type": "markdown",
      "metadata": {
        "id": "WHSU8NShZedN"
      },
      "source": [
        "![alt text](https://encrypted-tbn0.gstatic.com/images?q=tbn%3AANd9GcTK4gQ9nhwHHaSXMHpeggWg7twwMCgb877smkRmtkmDeDoGF9Z6&usqp=CAU)"
      ]
    },
    {
      "cell_type": "markdown",
      "metadata": {
        "id": "7oiQVQi0AJ6D"
      },
      "source": [
        "# <font color='BLUE'>Cientista de Dados na Prática </font>\n",
        "\n",
        "# <font color='GREEN'>Módulo 4 - Análise Exploratória dos Dados</font>\n",
        "\n",
        "### <font color='GREY'> Caso Prático de Análise Exploratória </font>\n",
        "\n"
      ]
    },
    {
      "cell_type": "markdown",
      "metadata": {
        "id": "ksgbUnFLsl8e"
      },
      "source": [
        "# 1° Problema de Negócio"
      ]
    },
    {
      "cell_type": "markdown",
      "metadata": {
        "id": "XznIL7v9s1UF"
      },
      "source": [
        "> Vamos Fazer Previsão dos Valores dos Imóveis\n",
        "\n",
        "\n"
      ]
    },
    {
      "cell_type": "markdown",
      "metadata": {
        "id": "i9B1HyT2llNk"
      },
      "source": [
        "# 2° Análise Exploratória dos Dados"
      ]
    },
    {
      "cell_type": "markdown",
      "metadata": {
        "id": "4vhNe3CadOcI"
      },
      "source": [
        "#### Conhecendo a base de dados"
      ]
    },
    {
      "cell_type": "markdown",
      "metadata": {
        "id": "UIKcG9cuf73S"
      },
      "source": [
        "Monta o drive"
      ]
    },
    {
      "cell_type": "code",
      "metadata": {
        "id": "Pra_pLjfAW3d",
        "colab": {
          "base_uri": "https://localhost:8080/"
        },
        "outputId": "771512c0-5189-4358-e6e6-c18ded735bed"
      },
      "source": [
        "from google.colab import drive\n",
        "drive.mount('/content/drive')"
      ],
      "execution_count": 3,
      "outputs": [
        {
          "output_type": "stream",
          "name": "stdout",
          "text": [
            "Mounted at /content/drive\n"
          ]
        }
      ]
    },
    {
      "cell_type": "markdown",
      "metadata": {
        "id": "LpI7iiKFVv85"
      },
      "source": [
        "Importando as bibliotecas básicas"
      ]
    },
    {
      "cell_type": "code",
      "metadata": {
        "id": "KrCFI6wjVy8r"
      },
      "source": [
        "import pandas as pd\n",
        "import seaborn as sns\n",
        "import numpy as np\n",
        "import matplotlib.pyplot as plt"
      ],
      "execution_count": 1,
      "outputs": []
    },
    {
      "cell_type": "markdown",
      "metadata": {
        "id": "pN6MI_aOdLkK"
      },
      "source": [
        "Carregando a Base de Dados"
      ]
    },
    {
      "cell_type": "code",
      "metadata": {
        "id": "fH08VuIvDYqC"
      },
      "source": [
        "# carrega o dataset de boston\n",
        "data = pd.read_csv('/content/BostonHousing.csv')"
      ],
      "execution_count": 25,
      "outputs": []
    },
    {
      "cell_type": "code",
      "metadata": {
        "id": "vdncFGtm9EZe",
        "colab": {
          "base_uri": "https://localhost:8080/"
        },
        "outputId": "f7e5c5b6-73bf-49ea-85c0-71cf4b4e3c68"
      },
      "source": [
        "# descrição do dataset\n",
        "print (data)"
      ],
      "execution_count": 26,
      "outputs": [
        {
          "output_type": "stream",
          "name": "stdout",
          "text": [
            "        crim    zn  indus  chas    nox     rm   age     dis  rad  tax  \\\n",
            "0    0.00632  18.0   2.31     0  0.538  6.575  65.2  4.0900    1  296   \n",
            "1    0.02731   0.0   7.07     0  0.469  6.421  78.9  4.9671    2  242   \n",
            "2    0.02729   0.0   7.07     0  0.469  7.185  61.1  4.9671    2  242   \n",
            "3    0.03237   0.0   2.18     0  0.458  6.998  45.8  6.0622    3  222   \n",
            "4    0.06905   0.0   2.18     0  0.458  7.147  54.2  6.0622    3  222   \n",
            "..       ...   ...    ...   ...    ...    ...   ...     ...  ...  ...   \n",
            "501  0.06263   0.0  11.93     0  0.573  6.593  69.1  2.4786    1  273   \n",
            "502  0.04527   0.0  11.93     0  0.573  6.120  76.7  2.2875    1  273   \n",
            "503  0.06076   0.0  11.93     0  0.573  6.976  91.0  2.1675    1  273   \n",
            "504  0.10959   0.0  11.93     0  0.573  6.794  89.3  2.3889    1  273   \n",
            "505  0.04741   0.0  11.93     0  0.573  6.030  80.8  2.5050    1  273   \n",
            "\n",
            "     ptratio       b  lstat  medv  \n",
            "0       15.3  396.90   4.98  24.0  \n",
            "1       17.8  396.90   9.14  21.6  \n",
            "2       17.8  392.83   4.03  34.7  \n",
            "3       18.7  394.63   2.94  33.4  \n",
            "4       18.7  396.90   5.33  36.2  \n",
            "..       ...     ...    ...   ...  \n",
            "501     21.0  391.99   9.67  22.4  \n",
            "502     21.0  396.90   9.08  20.6  \n",
            "503     21.0  396.90   5.64  23.9  \n",
            "504     21.0  393.45   6.48  22.0  \n",
            "505     21.0  396.90   7.88  11.9  \n",
            "\n",
            "[506 rows x 14 columns]\n"
          ]
        }
      ]
    },
    {
      "cell_type": "code",
      "metadata": {
        "id": "e1d1cfElD_aD"
      },
      "source": [
        "# cria um dataframe pandas\n",
        "data = pd.DataFrame()"
      ],
      "execution_count": 27,
      "outputs": []
    },
    {
      "cell_type": "code",
      "metadata": {
        "id": "j7nqnckSVqip",
        "colab": {
          "base_uri": "https://localhost:8080/"
        },
        "outputId": "99de6842-25b3-48e1-d531-f515e3bde912"
      },
      "source": [
        "# imprime as 5 primeiras linhas do dataset\n",
        "print(data)"
      ],
      "execution_count": 28,
      "outputs": [
        {
          "output_type": "stream",
          "name": "stdout",
          "text": [
            "Empty DataFrame\n",
            "Columns: []\n",
            "Index: []\n"
          ]
        }
      ]
    },
    {
      "cell_type": "code",
      "metadata": {
        "id": "bZs1pL9J-obe"
      },
      "source": [
        "# escreve o arquivo para o disco\n",
        "data.to_csv('data.csv')"
      ],
      "execution_count": 16,
      "outputs": []
    },
    {
      "cell_type": "markdown",
      "metadata": {
        "id": "QwLW2ovTV4lh"
      },
      "source": [
        "Conhecendo as colunas da base de dados"
      ]
    },
    {
      "cell_type": "markdown",
      "metadata": {
        "id": "LwFL9EDhAWzQ"
      },
      "source": [
        "**`CRIM`**: Taxa de criminalidade per capita por regiao.\n",
        "\n",
        "**`ZN`**: Proporção de terrenos residenciais divididos por lotes com mais de 25.000 pés quadrados.\n",
        "\n",
        "**`INDUS`**: Essa é a proporção de hectares de negócios não comerciais por regiao.\n",
        "\n",
        "**`CHAS`**: variável fictícia Charles River (= 1 se o trecho limita o rio; 0 caso contrário)\n",
        "\n",
        "**`NOX`**: concentração de óxido nítrico (partes por 10 milhões)\n",
        "\n",
        "**`RM`**: Número médio de quartos entre as casas do bairro\n",
        "\n",
        "**`Age`**: proporção de unidades ocupadas pelos proprietários construídas antes de 1940\n",
        "\n",
        "**`DIS`**: distâncias ponderadas para cinco centros de emprego em Boston\n",
        "\n",
        "**`RAD`**: Índice de acessibilidade às rodovias radiais\n",
        "\n",
        "**`IMPOSTO`**: taxa do imposto sobre a propriedade de valor total por US $ 10.000\n",
        "\n",
        "**`B`**: 1000 (Bk - 0,63) ², onde Bk é a proporção de pessoas de descendência afro-americana por regiao\n",
        "\n",
        "**`PTRATIO`**: Bairros com maior proporção de alunos para professores (maior valor de 'PTRATIO')\n",
        "\n",
        "**`LSTAT`**: porcentagem de status mais baixo da população\n",
        "\n",
        "**`MEDV`**: valor médio de casas ocupadas pelos proprietários em US $ 1000"
      ]
    },
    {
      "cell_type": "markdown",
      "metadata": {
        "id": "2DqDhU9Gdkme"
      },
      "source": [
        "Adicionando a coluna que será nossa variável alvo"
      ]
    },
    {
      "cell_type": "code",
      "metadata": {
        "id": "WaGqRi0vElWS",
        "colab": {
          "base_uri": "https://localhost:8080/",
          "height": 583
        },
        "outputId": "d9ba2bb7-c6fc-4aaa-d946-c541a7bf8b14"
      },
      "source": [
        "# adiciona a variável MEDV\n",
        "data['MEDV']"
      ],
      "execution_count": 21,
      "outputs": [
        {
          "output_type": "error",
          "ename": "KeyError",
          "evalue": "ignored",
          "traceback": [
            "\u001b[0;31m---------------------------------------------------------------------------\u001b[0m",
            "\u001b[0;31mKeyError\u001b[0m                                  Traceback (most recent call last)",
            "\u001b[0;32m/usr/local/lib/python3.10/dist-packages/pandas/core/indexes/base.py\u001b[0m in \u001b[0;36mget_loc\u001b[0;34m(self, key, method, tolerance)\u001b[0m\n\u001b[1;32m   3801\u001b[0m             \u001b[0;32mtry\u001b[0m\u001b[0;34m:\u001b[0m\u001b[0;34m\u001b[0m\u001b[0;34m\u001b[0m\u001b[0m\n\u001b[0;32m-> 3802\u001b[0;31m                 \u001b[0;32mreturn\u001b[0m \u001b[0mself\u001b[0m\u001b[0;34m.\u001b[0m\u001b[0m_engine\u001b[0m\u001b[0;34m.\u001b[0m\u001b[0mget_loc\u001b[0m\u001b[0;34m(\u001b[0m\u001b[0mcasted_key\u001b[0m\u001b[0;34m)\u001b[0m\u001b[0;34m\u001b[0m\u001b[0;34m\u001b[0m\u001b[0m\n\u001b[0m\u001b[1;32m   3803\u001b[0m             \u001b[0;32mexcept\u001b[0m \u001b[0mKeyError\u001b[0m \u001b[0;32mas\u001b[0m \u001b[0merr\u001b[0m\u001b[0;34m:\u001b[0m\u001b[0;34m\u001b[0m\u001b[0;34m\u001b[0m\u001b[0m\n",
            "\u001b[0;32m/usr/local/lib/python3.10/dist-packages/pandas/_libs/index.pyx\u001b[0m in \u001b[0;36mpandas._libs.index.IndexEngine.get_loc\u001b[0;34m()\u001b[0m\n",
            "\u001b[0;32m/usr/local/lib/python3.10/dist-packages/pandas/_libs/index.pyx\u001b[0m in \u001b[0;36mpandas._libs.index.IndexEngine.get_loc\u001b[0;34m()\u001b[0m\n",
            "\u001b[0;32mpandas/_libs/hashtable_class_helper.pxi\u001b[0m in \u001b[0;36mpandas._libs.hashtable.PyObjectHashTable.get_item\u001b[0;34m()\u001b[0m\n",
            "\u001b[0;32mpandas/_libs/hashtable_class_helper.pxi\u001b[0m in \u001b[0;36mpandas._libs.hashtable.PyObjectHashTable.get_item\u001b[0;34m()\u001b[0m\n",
            "\u001b[0;31mKeyError\u001b[0m: 'MEDV'",
            "\nThe above exception was the direct cause of the following exception:\n",
            "\u001b[0;31mKeyError\u001b[0m                                  Traceback (most recent call last)",
            "\u001b[0;32m<ipython-input-21-59afcb8c373d>\u001b[0m in \u001b[0;36m<cell line: 2>\u001b[0;34m()\u001b[0m\n\u001b[1;32m      1\u001b[0m \u001b[0;31m# adiciona a variável MEDV\u001b[0m\u001b[0;34m\u001b[0m\u001b[0;34m\u001b[0m\u001b[0m\n\u001b[0;32m----> 2\u001b[0;31m \u001b[0mdata\u001b[0m\u001b[0;34m[\u001b[0m\u001b[0;34m'MEDV'\u001b[0m\u001b[0;34m]\u001b[0m\u001b[0;34m\u001b[0m\u001b[0;34m\u001b[0m\u001b[0m\n\u001b[0m",
            "\u001b[0;32m/usr/local/lib/python3.10/dist-packages/pandas/core/frame.py\u001b[0m in \u001b[0;36m__getitem__\u001b[0;34m(self, key)\u001b[0m\n\u001b[1;32m   3805\u001b[0m             \u001b[0;32mif\u001b[0m \u001b[0mself\u001b[0m\u001b[0;34m.\u001b[0m\u001b[0mcolumns\u001b[0m\u001b[0;34m.\u001b[0m\u001b[0mnlevels\u001b[0m \u001b[0;34m>\u001b[0m \u001b[0;36m1\u001b[0m\u001b[0;34m:\u001b[0m\u001b[0;34m\u001b[0m\u001b[0;34m\u001b[0m\u001b[0m\n\u001b[1;32m   3806\u001b[0m                 \u001b[0;32mreturn\u001b[0m \u001b[0mself\u001b[0m\u001b[0;34m.\u001b[0m\u001b[0m_getitem_multilevel\u001b[0m\u001b[0;34m(\u001b[0m\u001b[0mkey\u001b[0m\u001b[0;34m)\u001b[0m\u001b[0;34m\u001b[0m\u001b[0;34m\u001b[0m\u001b[0m\n\u001b[0;32m-> 3807\u001b[0;31m             \u001b[0mindexer\u001b[0m \u001b[0;34m=\u001b[0m \u001b[0mself\u001b[0m\u001b[0;34m.\u001b[0m\u001b[0mcolumns\u001b[0m\u001b[0;34m.\u001b[0m\u001b[0mget_loc\u001b[0m\u001b[0;34m(\u001b[0m\u001b[0mkey\u001b[0m\u001b[0;34m)\u001b[0m\u001b[0;34m\u001b[0m\u001b[0;34m\u001b[0m\u001b[0m\n\u001b[0m\u001b[1;32m   3808\u001b[0m             \u001b[0;32mif\u001b[0m \u001b[0mis_integer\u001b[0m\u001b[0;34m(\u001b[0m\u001b[0mindexer\u001b[0m\u001b[0;34m)\u001b[0m\u001b[0;34m:\u001b[0m\u001b[0;34m\u001b[0m\u001b[0;34m\u001b[0m\u001b[0m\n\u001b[1;32m   3809\u001b[0m                 \u001b[0mindexer\u001b[0m \u001b[0;34m=\u001b[0m \u001b[0;34m[\u001b[0m\u001b[0mindexer\u001b[0m\u001b[0;34m]\u001b[0m\u001b[0;34m\u001b[0m\u001b[0;34m\u001b[0m\u001b[0m\n",
            "\u001b[0;32m/usr/local/lib/python3.10/dist-packages/pandas/core/indexes/base.py\u001b[0m in \u001b[0;36mget_loc\u001b[0;34m(self, key, method, tolerance)\u001b[0m\n\u001b[1;32m   3802\u001b[0m                 \u001b[0;32mreturn\u001b[0m \u001b[0mself\u001b[0m\u001b[0;34m.\u001b[0m\u001b[0m_engine\u001b[0m\u001b[0;34m.\u001b[0m\u001b[0mget_loc\u001b[0m\u001b[0;34m(\u001b[0m\u001b[0mcasted_key\u001b[0m\u001b[0;34m)\u001b[0m\u001b[0;34m\u001b[0m\u001b[0;34m\u001b[0m\u001b[0m\n\u001b[1;32m   3803\u001b[0m             \u001b[0;32mexcept\u001b[0m \u001b[0mKeyError\u001b[0m \u001b[0;32mas\u001b[0m \u001b[0merr\u001b[0m\u001b[0;34m:\u001b[0m\u001b[0;34m\u001b[0m\u001b[0;34m\u001b[0m\u001b[0m\n\u001b[0;32m-> 3804\u001b[0;31m                 \u001b[0;32mraise\u001b[0m \u001b[0mKeyError\u001b[0m\u001b[0;34m(\u001b[0m\u001b[0mkey\u001b[0m\u001b[0;34m)\u001b[0m \u001b[0;32mfrom\u001b[0m \u001b[0merr\u001b[0m\u001b[0;34m\u001b[0m\u001b[0;34m\u001b[0m\u001b[0m\n\u001b[0m\u001b[1;32m   3805\u001b[0m             \u001b[0;32mexcept\u001b[0m \u001b[0mTypeError\u001b[0m\u001b[0;34m:\u001b[0m\u001b[0;34m\u001b[0m\u001b[0;34m\u001b[0m\u001b[0m\n\u001b[1;32m   3806\u001b[0m                 \u001b[0;31m# If we have a listlike key, _check_indexing_error will raise\u001b[0m\u001b[0;34m\u001b[0m\u001b[0;34m\u001b[0m\u001b[0m\n",
            "\u001b[0;31mKeyError\u001b[0m: 'MEDV'"
          ]
        }
      ]
    },
    {
      "cell_type": "code",
      "metadata": {
        "id": "IyvcTctWCkfH",
        "colab": {
          "base_uri": "https://localhost:8080/",
          "height": 53
        },
        "outputId": "5ce4fec6-4aad-4adc-b720-3f1e9ffad52f"
      },
      "source": [
        "# imprime as 5 primeiras linhas do dataframe\n",
        "data.head()"
      ],
      "execution_count": 22,
      "outputs": [
        {
          "output_type": "execute_result",
          "data": {
            "text/plain": [
              "Empty DataFrame\n",
              "Columns: []\n",
              "Index: []"
            ],
            "text/html": [
              "\n",
              "  <div id=\"df-89361d26-ccd3-4036-b4d5-354d334af60d\" class=\"colab-df-container\">\n",
              "    <div>\n",
              "<style scoped>\n",
              "    .dataframe tbody tr th:only-of-type {\n",
              "        vertical-align: middle;\n",
              "    }\n",
              "\n",
              "    .dataframe tbody tr th {\n",
              "        vertical-align: top;\n",
              "    }\n",
              "\n",
              "    .dataframe thead th {\n",
              "        text-align: right;\n",
              "    }\n",
              "</style>\n",
              "<table border=\"1\" class=\"dataframe\">\n",
              "  <thead>\n",
              "    <tr style=\"text-align: right;\">\n",
              "      <th></th>\n",
              "    </tr>\n",
              "  </thead>\n",
              "  <tbody>\n",
              "  </tbody>\n",
              "</table>\n",
              "</div>\n",
              "    <div class=\"colab-df-buttons\">\n",
              "\n",
              "  <div class=\"colab-df-container\">\n",
              "    <button class=\"colab-df-convert\" onclick=\"convertToInteractive('df-89361d26-ccd3-4036-b4d5-354d334af60d')\"\n",
              "            title=\"Convert this dataframe to an interactive table.\"\n",
              "            style=\"display:none;\">\n",
              "\n",
              "  <svg xmlns=\"http://www.w3.org/2000/svg\" height=\"24px\" viewBox=\"0 -960 960 960\">\n",
              "    <path d=\"M120-120v-720h720v720H120Zm60-500h600v-160H180v160Zm220 220h160v-160H400v160Zm0 220h160v-160H400v160ZM180-400h160v-160H180v160Zm440 0h160v-160H620v160ZM180-180h160v-160H180v160Zm440 0h160v-160H620v160Z\"/>\n",
              "  </svg>\n",
              "    </button>\n",
              "\n",
              "  <style>\n",
              "    .colab-df-container {\n",
              "      display:flex;\n",
              "      gap: 12px;\n",
              "    }\n",
              "\n",
              "    .colab-df-convert {\n",
              "      background-color: #E8F0FE;\n",
              "      border: none;\n",
              "      border-radius: 50%;\n",
              "      cursor: pointer;\n",
              "      display: none;\n",
              "      fill: #1967D2;\n",
              "      height: 32px;\n",
              "      padding: 0 0 0 0;\n",
              "      width: 32px;\n",
              "    }\n",
              "\n",
              "    .colab-df-convert:hover {\n",
              "      background-color: #E2EBFA;\n",
              "      box-shadow: 0px 1px 2px rgba(60, 64, 67, 0.3), 0px 1px 3px 1px rgba(60, 64, 67, 0.15);\n",
              "      fill: #174EA6;\n",
              "    }\n",
              "\n",
              "    .colab-df-buttons div {\n",
              "      margin-bottom: 4px;\n",
              "    }\n",
              "\n",
              "    [theme=dark] .colab-df-convert {\n",
              "      background-color: #3B4455;\n",
              "      fill: #D2E3FC;\n",
              "    }\n",
              "\n",
              "    [theme=dark] .colab-df-convert:hover {\n",
              "      background-color: #434B5C;\n",
              "      box-shadow: 0px 1px 3px 1px rgba(0, 0, 0, 0.15);\n",
              "      filter: drop-shadow(0px 1px 2px rgba(0, 0, 0, 0.3));\n",
              "      fill: #FFFFFF;\n",
              "    }\n",
              "  </style>\n",
              "\n",
              "    <script>\n",
              "      const buttonEl =\n",
              "        document.querySelector('#df-89361d26-ccd3-4036-b4d5-354d334af60d button.colab-df-convert');\n",
              "      buttonEl.style.display =\n",
              "        google.colab.kernel.accessAllowed ? 'block' : 'none';\n",
              "\n",
              "      async function convertToInteractive(key) {\n",
              "        const element = document.querySelector('#df-89361d26-ccd3-4036-b4d5-354d334af60d');\n",
              "        const dataTable =\n",
              "          await google.colab.kernel.invokeFunction('convertToInteractive',\n",
              "                                                    [key], {});\n",
              "        if (!dataTable) return;\n",
              "\n",
              "        const docLinkHtml = 'Like what you see? Visit the ' +\n",
              "          '<a target=\"_blank\" href=https://colab.research.google.com/notebooks/data_table.ipynb>data table notebook</a>'\n",
              "          + ' to learn more about interactive tables.';\n",
              "        element.innerHTML = '';\n",
              "        dataTable['output_type'] = 'display_data';\n",
              "        await google.colab.output.renderOutput(dataTable, element);\n",
              "        const docLink = document.createElement('div');\n",
              "        docLink.innerHTML = docLinkHtml;\n",
              "        element.appendChild(docLink);\n",
              "      }\n",
              "    </script>\n",
              "  </div>\n",
              "\n",
              "    </div>\n",
              "  </div>\n"
            ]
          },
          "metadata": {},
          "execution_count": 22
        }
      ]
    },
    {
      "cell_type": "code",
      "metadata": {
        "id": "YEf9q6l4uVmJ",
        "colab": {
          "base_uri": "https://localhost:8080/",
          "height": 339
        },
        "outputId": "8ae617c2-68dc-4746-90cd-952eb685e9d9"
      },
      "source": [
        "data.describe()"
      ],
      "execution_count": 19,
      "outputs": [
        {
          "output_type": "error",
          "ename": "ValueError",
          "evalue": "ignored",
          "traceback": [
            "\u001b[0;31m---------------------------------------------------------------------------\u001b[0m",
            "\u001b[0;31mValueError\u001b[0m                                Traceback (most recent call last)",
            "\u001b[0;32m<ipython-input-19-2bb0b18689d4>\u001b[0m in \u001b[0;36m<cell line: 1>\u001b[0;34m()\u001b[0m\n\u001b[0;32m----> 1\u001b[0;31m \u001b[0mdata\u001b[0m\u001b[0;34m.\u001b[0m\u001b[0mdescribe\u001b[0m\u001b[0;34m(\u001b[0m\u001b[0;34m)\u001b[0m\u001b[0;34m\u001b[0m\u001b[0;34m\u001b[0m\u001b[0m\n\u001b[0m",
            "\u001b[0;32m/usr/local/lib/python3.10/dist-packages/pandas/core/generic.py\u001b[0m in \u001b[0;36mdescribe\u001b[0;34m(self, percentiles, include, exclude, datetime_is_numeric)\u001b[0m\n\u001b[1;32m  10938\u001b[0m         \u001b[0mmax\u001b[0m            \u001b[0mNaN\u001b[0m      \u001b[0;36m3.0\u001b[0m\u001b[0;34m\u001b[0m\u001b[0;34m\u001b[0m\u001b[0m\n\u001b[1;32m  10939\u001b[0m         \"\"\"\n\u001b[0;32m> 10940\u001b[0;31m         return describe_ndframe(\n\u001b[0m\u001b[1;32m  10941\u001b[0m             \u001b[0mobj\u001b[0m\u001b[0;34m=\u001b[0m\u001b[0mself\u001b[0m\u001b[0;34m,\u001b[0m\u001b[0;34m\u001b[0m\u001b[0;34m\u001b[0m\u001b[0m\n\u001b[1;32m  10942\u001b[0m             \u001b[0minclude\u001b[0m\u001b[0;34m=\u001b[0m\u001b[0minclude\u001b[0m\u001b[0;34m,\u001b[0m\u001b[0;34m\u001b[0m\u001b[0;34m\u001b[0m\u001b[0m\n",
            "\u001b[0;32m/usr/local/lib/python3.10/dist-packages/pandas/core/describe.py\u001b[0m in \u001b[0;36mdescribe_ndframe\u001b[0;34m(obj, include, exclude, datetime_is_numeric, percentiles)\u001b[0m\n\u001b[1;32m     92\u001b[0m         )\n\u001b[1;32m     93\u001b[0m     \u001b[0;32melse\u001b[0m\u001b[0;34m:\u001b[0m\u001b[0;34m\u001b[0m\u001b[0;34m\u001b[0m\u001b[0m\n\u001b[0;32m---> 94\u001b[0;31m         describer = DataFrameDescriber(\n\u001b[0m\u001b[1;32m     95\u001b[0m             \u001b[0mobj\u001b[0m\u001b[0;34m=\u001b[0m\u001b[0mcast\u001b[0m\u001b[0;34m(\u001b[0m\u001b[0;34m\"DataFrame\"\u001b[0m\u001b[0;34m,\u001b[0m \u001b[0mobj\u001b[0m\u001b[0;34m)\u001b[0m\u001b[0;34m,\u001b[0m\u001b[0;34m\u001b[0m\u001b[0;34m\u001b[0m\u001b[0m\n\u001b[1;32m     96\u001b[0m             \u001b[0minclude\u001b[0m\u001b[0;34m=\u001b[0m\u001b[0minclude\u001b[0m\u001b[0;34m,\u001b[0m\u001b[0;34m\u001b[0m\u001b[0;34m\u001b[0m\u001b[0m\n",
            "\u001b[0;32m/usr/local/lib/python3.10/dist-packages/pandas/core/describe.py\u001b[0m in \u001b[0;36m__init__\u001b[0;34m(self, obj, include, exclude, datetime_is_numeric)\u001b[0m\n\u001b[1;32m    169\u001b[0m \u001b[0;34m\u001b[0m\u001b[0m\n\u001b[1;32m    170\u001b[0m         \u001b[0;32mif\u001b[0m \u001b[0mobj\u001b[0m\u001b[0;34m.\u001b[0m\u001b[0mndim\u001b[0m \u001b[0;34m==\u001b[0m \u001b[0;36m2\u001b[0m \u001b[0;32mand\u001b[0m \u001b[0mobj\u001b[0m\u001b[0;34m.\u001b[0m\u001b[0mcolumns\u001b[0m\u001b[0;34m.\u001b[0m\u001b[0msize\u001b[0m \u001b[0;34m==\u001b[0m \u001b[0;36m0\u001b[0m\u001b[0;34m:\u001b[0m\u001b[0;34m\u001b[0m\u001b[0;34m\u001b[0m\u001b[0m\n\u001b[0;32m--> 171\u001b[0;31m             \u001b[0;32mraise\u001b[0m \u001b[0mValueError\u001b[0m\u001b[0;34m(\u001b[0m\u001b[0;34m\"Cannot describe a DataFrame without columns\"\u001b[0m\u001b[0;34m)\u001b[0m\u001b[0;34m\u001b[0m\u001b[0;34m\u001b[0m\u001b[0m\n\u001b[0m\u001b[1;32m    172\u001b[0m \u001b[0;34m\u001b[0m\u001b[0m\n\u001b[1;32m    173\u001b[0m         \u001b[0msuper\u001b[0m\u001b[0;34m(\u001b[0m\u001b[0;34m)\u001b[0m\u001b[0;34m.\u001b[0m\u001b[0m__init__\u001b[0m\u001b[0;34m(\u001b[0m\u001b[0mobj\u001b[0m\u001b[0;34m,\u001b[0m \u001b[0mdatetime_is_numeric\u001b[0m\u001b[0;34m=\u001b[0m\u001b[0mdatetime_is_numeric\u001b[0m\u001b[0;34m)\u001b[0m\u001b[0;34m\u001b[0m\u001b[0;34m\u001b[0m\u001b[0m\n",
            "\u001b[0;31mValueError\u001b[0m: Cannot describe a DataFrame without columns"
          ]
        }
      ]
    },
    {
      "cell_type": "markdown",
      "metadata": {
        "id": "sZnu3djs_vjJ"
      },
      "source": [
        "#### Análise e Exploração dos Dados\n",
        "\n"
      ]
    },
    {
      "cell_type": "markdown",
      "metadata": {
        "id": "IPGHUiAem8LL"
      },
      "source": [
        "Nesta etapa nosso objetivo é conhecer os dados que estamos trabalhando.\n",
        "\n",
        "Podemos a ferramenta **Pandas Profiling** para essa etapa:"
      ]
    },
    {
      "cell_type": "code",
      "metadata": {
        "id": "Nu0SgG1CZhmV"
      },
      "source": [
        "# instalando o pandas profiling\n",
        "pip install https://github.com/pandas-profiling/pandas-profiling/archive/master.zip"
      ],
      "execution_count": null,
      "outputs": []
    },
    {
      "cell_type": "code",
      "metadata": {
        "id": "OGrLb3EXZwki"
      },
      "source": [
        "# import o ProfileReport\n",
        "from pandas_profiling import ProfileReport"
      ],
      "execution_count": null,
      "outputs": []
    },
    {
      "cell_type": "code",
      "metadata": {
        "id": "8nebQr41Zwgx"
      },
      "source": [
        "# executando o profile\n",
        "profile = ProfileReport(data, title='Relatório - Pandas Profiling', html={'style':{'full_width':True}})"
      ],
      "execution_count": null,
      "outputs": []
    },
    {
      "cell_type": "code",
      "metadata": {
        "id": "8AKVbZEOZwTH"
      },
      "source": [
        "profile"
      ],
      "execution_count": null,
      "outputs": []
    },
    {
      "cell_type": "markdown",
      "metadata": {
        "id": "vouXoELXBMab"
      },
      "source": [
        "**Observações**\n",
        "\n",
        "*   *O coeficiente de correlação varia de `-1` a `1`.\n",
        "Se valor é próximo de 1, isto significa que existe uma forte correlação positiva entre as variáveis. Quando esse número é próximo de -1, as variáveis tem uma forte correlação negativa.*\n",
        "\n",
        "*   *A relatório que executamos acima nos mostra que a nossa variável alvo (**MEDV**) é fortemente correlacionada com as variáveis `LSTAT` e `RM`*\n",
        "\n",
        "*   *`RAD` e `TAX` são fortemente correlacionadas, podemos remove-las do nosso modelo para evitar a multi-colinearidade.*\n",
        "\n",
        "*   *O mesmo acontece com as colunas `DIS` and `AGE` a qual tem a correlação de -0.75*\n",
        "\n",
        "*   *A coluna `ZN` possui 73% de valores zero.*"
      ]
    },
    {
      "cell_type": "code",
      "metadata": {
        "id": "amne_skzYMdj"
      },
      "source": [
        "# salvando o relatório no disco\n",
        "profile.to_file(output_file=\"Relatorio01.html\")"
      ],
      "execution_count": null,
      "outputs": []
    },
    {
      "cell_type": "markdown",
      "metadata": {
        "id": "9sIexTyA49nM"
      },
      "source": [
        "Obtendo informações da base de dados manualmente"
      ]
    },
    {
      "cell_type": "code",
      "metadata": {
        "id": "hcR9OePVEzsy"
      },
      "source": [
        "# Check missing values\n",
        "data.isnull().sum()"
      ],
      "execution_count": null,
      "outputs": []
    },
    {
      "cell_type": "code",
      "metadata": {
        "id": "kA2i3bPkFCYN"
      },
      "source": [
        "# um pouco de estatística descritiva\n",
        "data.describe()"
      ],
      "execution_count": null,
      "outputs": []
    },
    {
      "cell_type": "markdown",
      "metadata": {
        "id": "jXFWRI37e2d5"
      },
      "source": [
        "Analisando a Correlação das colunas da base de dados"
      ]
    },
    {
      "cell_type": "code",
      "metadata": {
        "id": "joFTc0VjAKXM"
      },
      "source": [
        "# Calcule a correlação\n",
        "correlacoes = data.corr()"
      ],
      "execution_count": null,
      "outputs": []
    },
    {
      "cell_type": "code",
      "metadata": {
        "id": "u_EglvnDAKIr"
      },
      "source": [
        "# Usando o método heatmap do seaborn\n",
        "plt.figure(figsize=(16, 6))\n",
        "sns.heatmap(data=correlacoes, annot=True)"
      ],
      "execution_count": null,
      "outputs": []
    },
    {
      "cell_type": "markdown",
      "metadata": {
        "id": "oQ7l5KrafBgO"
      },
      "source": [
        "Visualizando a relação entre algumas features e variável alvo"
      ]
    },
    {
      "cell_type": "code",
      "metadata": {
        "id": "gDSi9W1WMmcb"
      },
      "source": [
        "# Importando o Plot.ly\n",
        "import plotly.express as px"
      ],
      "execution_count": null,
      "outputs": []
    },
    {
      "cell_type": "code",
      "metadata": {
        "id": "Aou5H2rgAKAB"
      },
      "source": [
        "# RM vs MEDV (Número de quartos e valor médio do imóvel)\n",
        "fig = px.scatter(data, x=data.RM, y=data.MEDV)\n",
        "fig.show()"
      ],
      "execution_count": null,
      "outputs": []
    },
    {
      "cell_type": "code",
      "metadata": {
        "id": "XxgZbQ55AKEG"
      },
      "source": [
        "# LSTAT vs MEDV (índice de status mais baixo da população e preço do imóvel)\n",
        "fig = px.scatter(data, x=data.LSTAT, y=data.MEDV)\n",
        "fig.show()"
      ],
      "execution_count": null,
      "outputs": []
    },
    {
      "cell_type": "code",
      "metadata": {
        "id": "zmgK9wl5g7Lp"
      },
      "source": [
        "# PTRATIO vs MEDV (percentual de proporção de alunos para professores)\n",
        "fig = px.scatter(data, x=data.PTRATIO, y=data.MEDV)\n",
        "fig.show()"
      ],
      "execution_count": null,
      "outputs": []
    },
    {
      "cell_type": "markdown",
      "metadata": {
        "id": "37p1_m7F0MER"
      },
      "source": [
        "#### Analisando Outliers"
      ]
    },
    {
      "cell_type": "code",
      "metadata": {
        "id": "HCZovi0qvc5c"
      },
      "source": [
        "# estatística descritiva da variável RM\n",
        "data.RM.describe()"
      ],
      "execution_count": null,
      "outputs": []
    },
    {
      "cell_type": "code",
      "metadata": {
        "id": "eNO-ASRuDd62"
      },
      "source": [
        "# visualizando a distribuição da variável RM\n",
        "import plotly.figure_factory as ff\n",
        "labels = ['Distribuição da variável RM (número de quartos)']\n",
        "fig = ff.create_distplot([data.RM], labels, bin_size=.2)\n",
        "fig.show()"
      ],
      "execution_count": null,
      "outputs": []
    },
    {
      "cell_type": "code",
      "metadata": {
        "id": "_BjYdDGGxkAs"
      },
      "source": [
        "# Visualizando outliers na variável RM\n",
        "import plotly.express as px\n",
        "\n",
        "fig = px.box(data, y='RM')\n",
        "fig.update_layout( width=800,height=800)\n",
        "fig.show()"
      ],
      "execution_count": null,
      "outputs": []
    },
    {
      "cell_type": "markdown",
      "metadata": {
        "id": "-vI2P2erjJ2b"
      },
      "source": [
        "Visualizando a distribuição da variável MEDV"
      ]
    },
    {
      "cell_type": "code",
      "metadata": {
        "id": "QPwgUI2JFJqg"
      },
      "source": [
        "# estatística descritiva da variável MEDV\n",
        "data.MEDV.describe()"
      ],
      "execution_count": null,
      "outputs": []
    },
    {
      "cell_type": "code",
      "metadata": {
        "id": "QEBlHKgpFTwO"
      },
      "source": [
        "# visualizando a distribuição da variável MEDV\n",
        "import plotly.figure_factory as ff\n",
        "labels = ['Distribuição da variável MEDV (preço médio do imóvel)']\n",
        "fig = ff.create_distplot([data.MEDV], labels, bin_size=.2)\n",
        "fig.show()"
      ],
      "execution_count": null,
      "outputs": []
    },
    {
      "cell_type": "markdown",
      "metadata": {
        "id": "eUXOZ6xXvfAC"
      },
      "source": [
        "Analisando a simetria do dado"
      ]
    },
    {
      "cell_type": "code",
      "metadata": {
        "id": "ovKltAzUGR9y"
      },
      "source": [
        "# carrega o método stats da scipy\n",
        "from scipy import stats"
      ],
      "execution_count": null,
      "outputs": []
    },
    {
      "cell_type": "code",
      "metadata": {
        "id": "Dl4dTtepGYic"
      },
      "source": [
        "# imprime o coeficiente de pearson\n",
        "stats.skew(data.MEDV)"
      ],
      "execution_count": null,
      "outputs": []
    },
    {
      "cell_type": "markdown",
      "metadata": {
        "id": "5MwVWy3Ps8Vm"
      },
      "source": [
        "Coeficiente de Pearson\n",
        "*   Valor entre -1 e 1 - distribuição simétrica.\n",
        "*   Valor maior que 1 - distribuição assimétrica positiva.\n",
        "*   Valor maior que -1 - distribuição assimétrica negativa."
      ]
    },
    {
      "cell_type": "code",
      "metadata": {
        "id": "6Q3yP1pjS4h8"
      },
      "source": [
        "# Histogram da variável MEDV (variável alvo)\n",
        "fig = px.histogram(data, x=\"MEDV\", nbins=50, opacity=0.50)\n",
        "fig.show()"
      ],
      "execution_count": null,
      "outputs": []
    },
    {
      "cell_type": "code",
      "metadata": {
        "id": "pkXxZVd-FmDQ"
      },
      "source": [
        "# Visualizando outliers na variável MEDV\n",
        "import plotly.express as px\n",
        "\n",
        "fig = px.box(data, y='MEDV')\n",
        "fig.update_layout( width=800,height=800)\n",
        "fig.show()"
      ],
      "execution_count": null,
      "outputs": []
    },
    {
      "cell_type": "code",
      "metadata": {
        "id": "JJT2O8sYI_yo"
      },
      "source": [
        "# estatistica descritiva das variáveis\n",
        "data[['PTRATIO','LSTAT','RM']].describe()"
      ],
      "execution_count": null,
      "outputs": []
    },
    {
      "cell_type": "code",
      "metadata": {
        "id": "9JZQO87lFlyu"
      },
      "source": [
        "# imprimindo os 16 maiores valores de MEDV\n",
        "data[['RM','LSTAT','PTRATIO','MEDV']].nlargest(16, 'MEDV')"
      ],
      "execution_count": null,
      "outputs": []
    },
    {
      "cell_type": "code",
      "metadata": {
        "id": "caKPkl_SFil0"
      },
      "source": [
        "# filtra os top 16 maiores registro da coluna MEDV\n",
        "top16 = data.nlargest(16, 'MEDV').index"
      ],
      "execution_count": null,
      "outputs": []
    },
    {
      "cell_type": "code",
      "metadata": {
        "id": "cicsUFf4OELZ"
      },
      "source": [
        "# remove os valores listados em top16\n",
        "data.drop(top16, inplace=True)"
      ],
      "execution_count": null,
      "outputs": []
    },
    {
      "cell_type": "code",
      "metadata": {
        "id": "eH_GiyiBMPbS"
      },
      "source": [
        "# visualizando a distribuição da variável MEDV\n",
        "import plotly.figure_factory as ff\n",
        "labels = ['Distribuição da variável MEDV (número de quartos)']\n",
        "fig = ff.create_distplot([data.MEDV], labels, bin_size=.2)\n",
        "fig.show()"
      ],
      "execution_count": null,
      "outputs": []
    },
    {
      "cell_type": "code",
      "metadata": {
        "id": "4p57a357MPYh"
      },
      "source": [
        "# Histogram da variável MEDV (variável alvo)\n",
        "fig = px.histogram(data, x=\"MEDV\", nbins=50, opacity=0.50)\n",
        "fig.show()"
      ],
      "execution_count": null,
      "outputs": []
    },
    {
      "cell_type": "code",
      "metadata": {
        "id": "aXuyA0dzMgd2"
      },
      "source": [
        "# imprime o coeficiente de pearson\n",
        "stats.skew(data.MEDV)"
      ],
      "execution_count": null,
      "outputs": []
    },
    {
      "cell_type": "markdown",
      "metadata": {
        "id": "X2mMG-H_xfCU"
      },
      "source": [
        "**Definindo um primeiro modelo Baseline**:\n",
        "==> Aqui vc faz a primeira Máquina Preditiva\n",
        "\n",
        "- `Uma baseline é importante para ter marcos no projeto`.\n",
        "- `Permite uma explicação fácil para todos os envolvidos`.\n",
        "- `É algo que sempre tentaremos ganhar na medida do possível`."
      ]
    },
    {
      "cell_type": "code",
      "metadata": {
        "id": "q-k-jC68Tmra"
      },
      "source": [
        "# converte os dados\n",
        "data.RM = data.RM.astype(int)"
      ],
      "execution_count": null,
      "outputs": []
    },
    {
      "cell_type": "code",
      "metadata": {
        "id": "cA9VCNRnUOPi"
      },
      "source": [
        "data.info()"
      ],
      "execution_count": null,
      "outputs": []
    },
    {
      "cell_type": "code",
      "metadata": {
        "id": "K_-mp-6WtUee"
      },
      "source": [
        "# estatística descritiva da coluna numero de quartos\n",
        "data.RM.describe()"
      ],
      "execution_count": null,
      "outputs": []
    },
    {
      "cell_type": "code",
      "metadata": {
        "id": "HIknobGdtUQR"
      },
      "source": [
        "# definindo a regra para categorizar os dados\n",
        "categorias = []"
      ],
      "execution_count": null,
      "outputs": []
    },
    {
      "cell_type": "code",
      "metadata": {
        "id": "faL-8m1onPP2"
      },
      "source": [
        "# alimenta a lista categorias\n",
        "for i in data.RM.iteritems():\n",
        "  valor = (i[1])\n",
        "  if valor <= 4:\n",
        "    categorias.append('Pequeno')\n",
        "  elif valor < 7:\n",
        "    categorias.append('Medio')\n",
        "  else:\n",
        "    categorias.append('Grande')"
      ],
      "execution_count": null,
      "outputs": []
    },
    {
      "cell_type": "code",
      "metadata": {
        "id": "-nEk0wXeNFWE"
      },
      "source": [
        "# cria a coluna categorias\n",
        "data['categorias'] = categorias"
      ],
      "execution_count": null,
      "outputs": []
    },
    {
      "cell_type": "code",
      "metadata": {
        "id": "i-iVO76sR-am"
      },
      "source": [
        "# imprime a contagem de categorias\n",
        "data.categorias.value_counts()"
      ],
      "execution_count": null,
      "outputs": []
    },
    {
      "cell_type": "code",
      "metadata": {
        "id": "Gxa6OrD8Ht-0"
      },
      "source": [
        "# agrupa as categorias e calcula as médias\n",
        "medias_categorias = data.groupby(by='categorias')['MEDV'].mean()"
      ],
      "execution_count": null,
      "outputs": []
    },
    {
      "cell_type": "code",
      "metadata": {
        "id": "zYMhxnzDIM2X"
      },
      "source": [
        "# visualizando a variável medias_categorias\n",
        "medias_categorias"
      ],
      "execution_count": null,
      "outputs": []
    },
    {
      "cell_type": "code",
      "metadata": {
        "id": "wJHkQXozHcYN"
      },
      "source": [
        "# criando o dicionario com chaves medio, grande e pequeno e seus valores\n",
        "dic_baseline = {'Grande': medias_categorias[0], 'Medio': medias_categorias[1], 'Pequeno': medias_categorias[2]}"
      ],
      "execution_count": null,
      "outputs": []
    },
    {
      "cell_type": "code",
      "metadata": {
        "id": "AMrYkM_T7eqS"
      },
      "source": [
        "# imprime dicionario\n",
        "dic_baseline"
      ],
      "execution_count": null,
      "outputs": []
    },
    {
      "cell_type": "code",
      "metadata": {
        "id": "7lfDPAmL8kjX"
      },
      "source": [
        "# cria a função retorna baseline\n",
        "def retorna_baseline(num_quartos):\n",
        "  if num_quartos <= 4:\n",
        "    return dic_baseline.get('Pequeno')\n",
        "  elif num_quartos < 7:\n",
        "    return dic_baseline.get('Medio')\n",
        "  else:\n",
        "    return dic_baseline.get('Grande')"
      ],
      "execution_count": null,
      "outputs": []
    },
    {
      "cell_type": "code",
      "metadata": {
        "id": "um5I8oQ2Arhe"
      },
      "source": [
        "# chama a função retorna baseline\n",
        "retorna_baseline(3)"
      ],
      "execution_count": null,
      "outputs": []
    },
    {
      "cell_type": "code",
      "metadata": {
        "id": "785EhcLuCoqw"
      },
      "source": [
        "for i in data.RM.iteritems():\n",
        "  n_quartos = i[1]\n",
        "  print('Número de quartos é: {} , Valor médio: {}'.format(n_quartos,retorna_baseline(n_quartos)))"
      ],
      "execution_count": null,
      "outputs": []
    },
    {
      "cell_type": "code",
      "metadata": {
        "id": "7Is3KDjcXzBG"
      },
      "source": [
        "# imprime as 5 primeiras linhas do dataframe\n",
        "data.head()"
      ],
      "execution_count": null,
      "outputs": []
    },
    {
      "cell_type": "markdown",
      "metadata": {
        "id": "3n_yOZpGlgGv"
      },
      "source": [
        "Adicionando a coluna que será nossa variável alvo"
      ]
    },
    {
      "cell_type": "code",
      "metadata": {
        "id": "opiQvpdDlgGw"
      },
      "source": [
        "# adiciona a variável MEDV\n",
        "data['MEDV'] = boston.target"
      ],
      "execution_count": null,
      "outputs": []
    },
    {
      "cell_type": "code",
      "metadata": {
        "id": "OJ81rNy9lgGy"
      },
      "source": [
        "# filtra os top 16 maiores registro da coluna MEDV\n",
        "top16 = data.nlargest(16, 'MEDV').index"
      ],
      "execution_count": null,
      "outputs": []
    },
    {
      "cell_type": "code",
      "metadata": {
        "id": "UGr1qoEDlgG0"
      },
      "source": [
        "# remove os valores listados em top16\n",
        "data.drop(top16, inplace=True)"
      ],
      "execution_count": null,
      "outputs": []
    },
    {
      "cell_type": "code",
      "metadata": {
        "id": "RSLmldS8lgG3"
      },
      "source": [
        "# converte os dados\n",
        "data.RM = data.RM.astype(int)"
      ],
      "execution_count": null,
      "outputs": []
    },
    {
      "cell_type": "code",
      "metadata": {
        "id": "6iSdUeielgG4"
      },
      "source": [
        "data.info()"
      ],
      "execution_count": null,
      "outputs": []
    },
    {
      "cell_type": "code",
      "metadata": {
        "id": "d2mggZ2slgG6"
      },
      "source": [
        "# estatística descritiva da coluna numero de quartos\n",
        "data.RM.describe()"
      ],
      "execution_count": null,
      "outputs": []
    },
    {
      "cell_type": "code",
      "metadata": {
        "id": "NSiEWsiHlgG9"
      },
      "source": [
        "# definindo a regra para categorizar os dados\n",
        "categorias = []"
      ],
      "execution_count": null,
      "outputs": []
    },
    {
      "cell_type": "code",
      "metadata": {
        "id": "KGUX8S-YlgHB"
      },
      "source": [
        "# alimenta a lista categorias\n",
        "for i in data.RM.iteritems():\n",
        "  valor = (i[1])\n",
        "  if valor <= 4:\n",
        "    categorias.append('Pequeno')\n",
        "  elif valor < 7:\n",
        "    categorias.append('Medio')\n",
        "  else:\n",
        "    categorias.append('Grande')"
      ],
      "execution_count": null,
      "outputs": []
    },
    {
      "cell_type": "code",
      "metadata": {
        "id": "-rPeYKADlgHC"
      },
      "source": [
        "# cria a coluna categorias\n",
        "data['categorias'] = categorias"
      ],
      "execution_count": null,
      "outputs": []
    },
    {
      "cell_type": "code",
      "metadata": {
        "id": "gz8gS0TxlgHE"
      },
      "source": [
        "# imprime a contagem de categorias\n",
        "data.categorias.value_counts()"
      ],
      "execution_count": null,
      "outputs": []
    },
    {
      "cell_type": "code",
      "metadata": {
        "id": "FI9A6dD0lgHH"
      },
      "source": [
        "# agrupa as categorias e calcula as médias\n",
        "medias_categorias = data.groupby(by='categorias')['MEDV'].mean()"
      ],
      "execution_count": null,
      "outputs": []
    },
    {
      "cell_type": "code",
      "metadata": {
        "id": "kHMhXSVhlgHJ"
      },
      "source": [
        "# visualizando a variável medias_categorias\n",
        "medias_categorias"
      ],
      "execution_count": null,
      "outputs": []
    },
    {
      "cell_type": "code",
      "metadata": {
        "id": "fet29cchlgHK"
      },
      "source": [
        "# criando o dicionario com chaves medio, grande e pequeno e seus valores\n",
        "dic_baseline = {'Grande': medias_categorias[0], 'Medio': medias_categorias[1], 'Pequeno': medias_categorias[2]}"
      ],
      "execution_count": null,
      "outputs": []
    },
    {
      "cell_type": "code",
      "metadata": {
        "id": "2ok0XiSOlgHL"
      },
      "source": [
        "# imprime dicionario\n",
        "dic_baseline"
      ],
      "execution_count": null,
      "outputs": []
    },
    {
      "cell_type": "code",
      "metadata": {
        "id": "ZPzKhg8jlgHM"
      },
      "source": [
        "# cria a função retorna baseline\n",
        "def retorna_baseline(num_quartos):\n",
        "  if num_quartos <= 4:\n",
        "    return dic_baseline.get('Pequeno')\n",
        "  elif num_quartos < 7:\n",
        "    return dic_baseline.get('Medio')\n",
        "  else:\n",
        "    return dic_baseline.get('Grande')"
      ],
      "execution_count": null,
      "outputs": []
    },
    {
      "cell_type": "code",
      "metadata": {
        "id": "Et48gsJulgHO"
      },
      "source": [
        "# chama a função retorna baseline\n",
        "retorna_baseline(7)"
      ],
      "execution_count": null,
      "outputs": []
    },
    {
      "cell_type": "code",
      "metadata": {
        "id": "tcZkeCERlgHP"
      },
      "source": [
        "for i in data.RM.iteritems():\n",
        "  n_quartos = i[1]\n",
        "  print('Número de quartos é: {} , Valor médio: {}'.format(n_quartos,retorna_baseline(n_quartos)))"
      ],
      "execution_count": null,
      "outputs": []
    },
    {
      "cell_type": "code",
      "metadata": {
        "id": "0ycBXeRNlgHQ"
      },
      "source": [
        "# imprime as 5 primeiras linhas do dataframe\n",
        "data.head()"
      ],
      "execution_count": null,
      "outputs": []
    },
    {
      "cell_type": "markdown",
      "metadata": {
        "id": "SaYmsVtotcF_"
      },
      "source": [
        "# 3° Pré-Processamento dos Dados"
      ]
    },
    {
      "cell_type": "markdown",
      "metadata": {
        "id": "SXXetS7AHiXz"
      },
      "source": [
        "Preparando os dados"
      ]
    },
    {
      "cell_type": "code",
      "metadata": {
        "id": "Ai2si0SMFKVX"
      },
      "source": [
        "# remove as colunas colineares, variavel alvo e a coluna categorias\n",
        "X = data.drop(['RAD','TAX','MEDV','DIS','AGE','ZN','categorias'], axis=1)"
      ],
      "execution_count": null,
      "outputs": []
    },
    {
      "cell_type": "code",
      "metadata": {
        "id": "vxOb-hwYFFJx"
      },
      "source": [
        "# variável 'y' é nossa variável alvo\n",
        "y = data['MEDV']"
      ],
      "execution_count": null,
      "outputs": []
    },
    {
      "cell_type": "code",
      "metadata": {
        "id": "EhagncsDLyk-"
      },
      "source": [
        "# Dados na variável X\n",
        "X.head()"
      ],
      "execution_count": null,
      "outputs": []
    },
    {
      "cell_type": "code",
      "metadata": {
        "id": "W3He9wgaL5W7"
      },
      "source": [
        "# Variável alvo\n",
        "y.head()"
      ],
      "execution_count": null,
      "outputs": []
    },
    {
      "cell_type": "markdown",
      "metadata": {
        "id": "B0I1geDbH2cV"
      },
      "source": [
        "Separando os conjuntos de treino e teste"
      ]
    },
    {
      "cell_type": "code",
      "metadata": {
        "id": "13W2Fe2PfoK2"
      },
      "source": [
        "# carrega o método train_test_split\n",
        "from sklearn.model_selection import train_test_split"
      ],
      "execution_count": null,
      "outputs": []
    },
    {
      "cell_type": "code",
      "metadata": {
        "id": "FaFtnr62AJ74"
      },
      "source": [
        "# divide os dados entre o conjunto de treino e teste, 80% e 20% respectivamente.\n",
        "# define qualquer valor para o parâmetro random_state.\n",
        "X_train, X_test, y_train, y_test = train_test_split(X, y, test_size = 0.2, random_state=5)"
      ],
      "execution_count": null,
      "outputs": []
    },
    {
      "cell_type": "code",
      "metadata": {
        "id": "BiUsFzXQAJ38"
      },
      "source": [
        "# imprime a quantidade de linhas dos conjuntos\n",
        "print ('X_train: numero de linhas e colunas: {}'.format(X_train.shape))\n",
        "print ('X_test: numero de linhas e colunas: {}'.format(X_test.shape))\n",
        "print ('y_train: numero de linhas e colunas: {}'.format(y_train.shape))\n",
        "print ('y_test: numero de linhas e colunas: {}'.format(y_test.shape))"
      ],
      "execution_count": null,
      "outputs": []
    },
    {
      "cell_type": "markdown",
      "metadata": {
        "id": "18XxKuwjngVK"
      },
      "source": [
        "# 4° Construindo a Máquina Preditiva - Trabalhando com a baseline"
      ]
    },
    {
      "cell_type": "markdown",
      "metadata": {
        "id": "Wu94wESmFQqy"
      },
      "source": [
        "Modelo de baseline"
      ]
    },
    {
      "cell_type": "code",
      "metadata": {
        "id": "FI97hd4HFPtR"
      },
      "source": [
        "# imprimindo as 5 primeiras linhas dos dados de teste\n",
        "X_test.head()"
      ],
      "execution_count": null,
      "outputs": []
    },
    {
      "cell_type": "code",
      "metadata": {
        "id": "vRGvzY2jFbvD"
      },
      "source": [
        "# definindo uma lista de predicoes\n",
        "predicoes = []"
      ],
      "execution_count": null,
      "outputs": []
    },
    {
      "cell_type": "code",
      "metadata": {
        "id": "xZ09WeQcGdL0"
      },
      "source": [
        "# para cada elemento do teste alimenta a lista predicoes\n",
        "for i in X_test.RM.iteritems():\n",
        "  n_quartos = i[1]\n",
        "  predicoes.append(retorna_baseline(n_quartos))"
      ],
      "execution_count": null,
      "outputs": []
    },
    {
      "cell_type": "code",
      "metadata": {
        "id": "Zn-1qKZYF16H"
      },
      "source": [
        "# imprime as 10 primeiras linhas da lista de predicoes\n",
        "predicoes[:10]"
      ],
      "execution_count": null,
      "outputs": []
    },
    {
      "cell_type": "markdown",
      "metadata": {
        "id": "CM3QVVQ-Ug5L"
      },
      "source": [
        "Atribuindo resultados a um dataframe\n",
        "\n",
        "-   `Manteremos um log ao longo do projeto`\n",
        "-   `Permite a evolução dado o baseline`\n",
        "\n"
      ]
    },
    {
      "cell_type": "code",
      "metadata": {
        "id": "dMr0oUucnuy-"
      },
      "source": [
        "# cria um dataframe vazio\n",
        "df_results = pd.DataFrame()"
      ],
      "execution_count": null,
      "outputs": []
    },
    {
      "cell_type": "code",
      "metadata": {
        "id": "9T5FnjHnUDTA"
      },
      "source": [
        "# adiciona a coluna valor_real\n",
        "df_results['valor_real'] = y_test.values"
      ],
      "execution_count": null,
      "outputs": []
    },
    {
      "cell_type": "code",
      "metadata": {
        "id": "seteWjL0UDL3"
      },
      "source": [
        "# cria a coluna valor_predito_baseline com as predicoes\n",
        "df_results['valor_predito_baseline'] = predicoes"
      ],
      "execution_count": null,
      "outputs": []
    },
    {
      "cell_type": "code",
      "metadata": {
        "id": "6e34IoHyUC77"
      },
      "source": [
        "# imprimindo as 10 primeiras linhas do df_results\n",
        "df_results.head(10)"
      ],
      "execution_count": null,
      "outputs": []
    },
    {
      "cell_type": "markdown",
      "metadata": {
        "id": "HNRa3fuzVX_6"
      },
      "source": [
        "Plota o valor real e o baseline"
      ]
    },
    {
      "cell_type": "code",
      "metadata": {
        "id": "wcrc2krAVJCN"
      },
      "source": [
        "import plotly.graph_objects as go\n",
        "\n",
        "# Create traces\n",
        "fig = go.Figure()\n",
        "\n",
        "# Linha com os dados de teste\n",
        "fig.add_trace(go.Scatter(x=df_results.index,\n",
        "                         y=df_results.valor_real,\n",
        "                         mode='lines+markers',\n",
        "                         name='Valor Real'))\n",
        "\n",
        "# Linha com os dados preditos\n",
        "fig.add_trace(go.Scatter(x=df_results.index,\n",
        "                         y=df_results.valor_predito_baseline,\n",
        "                         mode='lines+markers',\n",
        "                         name='Valor Predito Baseline'))\n",
        "# Plota a figura\n",
        "fig.show()"
      ],
      "execution_count": null,
      "outputs": []
    },
    {
      "cell_type": "markdown",
      "metadata": {
        "id": "IUt81GVWGHLb"
      },
      "source": [
        "# 5° Avaliação do modelo baseline"
      ]
    },
    {
      "cell_type": "code",
      "metadata": {
        "id": "ACJFie9JF7iq"
      },
      "source": [
        "# calcula a métrica rmse\n",
        "from sklearn.metrics import mean_squared_error\n",
        "from math import sqrt"
      ],
      "execution_count": null,
      "outputs": []
    },
    {
      "cell_type": "code",
      "metadata": {
        "id": "6UO0iZm44Gl_"
      },
      "source": [
        "rmse = (np.sqrt(mean_squared_error(y_test, predicoes)))"
      ],
      "execution_count": null,
      "outputs": []
    },
    {
      "cell_type": "code",
      "metadata": {
        "id": "aFThM7L9GDA6"
      },
      "source": [
        "# imprime a performance do modelo\n",
        "print ('Performance do modelo baseline:')\n",
        "print('\\nRMSE é: {} '.format(rmse))"
      ],
      "execution_count": null,
      "outputs": []
    },
    {
      "cell_type": "markdown",
      "metadata": {
        "id": "XTRc7NjBKG65"
      },
      "source": [
        "# Fim"
      ]
    },
    {
      "cell_type": "markdown",
      "metadata": {
        "id": "_fHqFSvWe94c"
      },
      "source": [
        "## Valeu!"
      ]
    },
    {
      "cell_type": "markdown",
      "metadata": {
        "id": "JCGIEsSrKG66"
      },
      "source": [
        "### #Instagram - Ciencia dos Dados <a href=\"http://instagram.com/cienciadosdados\">instagram.com/cienciadosdados</a>"
      ]
    }
  ]
}